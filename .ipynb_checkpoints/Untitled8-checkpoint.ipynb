{
 "cells": [
  {
   "cell_type": "code",
   "execution_count": 1,
   "metadata": {},
   "outputs": [
    {
     "name": "stdout",
     "output_type": "stream",
     "text": [
      "   id  sepallengthcm  sepalwidthcm  petallengthcm  petalwidthcm      species\n",
      "0   1            5.1           3.5            1.4           0.2  Iris-setosa\n",
      "1   2            4.9           3.0            1.4           0.2  Iris-setosa\n",
      "2   3            4.7           3.2            1.3           0.2  Iris-setosa\n",
      "3   4            4.6           3.1            1.5           0.2  Iris-setosa\n",
      "4   5            5.0           3.6            1.4           0.2  Iris-setosa\n",
      "               id  sepallengthcm  sepalwidthcm  petallengthcm  petalwidthcm\n",
      "count  150.000000     150.000000    150.000000     150.000000    150.000000\n",
      "mean    75.500000       5.843333      3.054000       3.758667      1.198667\n",
      "std     43.445368       0.828066      0.433594       1.764420      0.763161\n",
      "min      1.000000       4.300000      2.000000       1.000000      0.100000\n",
      "25%     38.250000       5.100000      2.800000       1.600000      0.300000\n",
      "50%     75.500000       5.800000      3.000000       4.350000      1.300000\n",
      "75%    112.750000       6.400000      3.300000       5.100000      1.800000\n",
      "max    150.000000       7.900000      4.400000       6.900000      2.500000\n"
     ]
    },
    {
     "data": {
      "text/plain": [
       "<Figure size 640x480 with 1 Axes>"
      ]
     },
     "metadata": {},
     "output_type": "display_data"
    },
    {
     "data": {
      "text/plain": [
       "<Figure size 640x480 with 1 Axes>"
      ]
     },
     "metadata": {},
     "output_type": "display_data"
    },
    {
     "data": {
      "text/plain": [
       "<Figure size 640x480 with 1 Axes>"
      ]
     },
     "metadata": {},
     "output_type": "display_data"
    },
    {
     "data": {
      "text/plain": [
       "<Figure size 640x480 with 1 Axes>"
      ]
     },
     "metadata": {},
     "output_type": "display_data"
    },
    {
     "data": {
      "text/plain": [
       "<Figure size 543.375x400 with 1 Axes>"
      ]
     },
     "metadata": {},
     "output_type": "display_data"
    },
    {
     "data": {
      "text/plain": [
       "<Figure size 543.375x400 with 1 Axes>"
      ]
     },
     "metadata": {},
     "output_type": "display_data"
    },
    {
     "data": {
      "text/plain": [
       "<Figure size 543.375x400 with 1 Axes>"
      ]
     },
     "metadata": {},
     "output_type": "display_data"
    },
    {
     "data": {
      "text/plain": [
       "<Figure size 543.375x400 with 1 Axes>"
      ]
     },
     "metadata": {},
     "output_type": "display_data"
    },
    {
     "name": "stdout",
     "output_type": "stream",
     "text": [
      "training accuracy0.9821428571428571\n",
      "training accuracy0.9473684210526315\n",
      "['Iris-versicolor']\n"
     ]
    }
   ],
   "source": [
    "import pandas as pd\n",
    "import matplotlib.pyplot as plt\n",
    "import seaborn as svn\n",
    "from sklearn.model_selection import train_test_split\n",
    "from sklearn.neighbors import KNeighborsClassifier\n",
    "import numpy as num\n",
    "df=pd.read_csv('iris.csv')\n",
    "df.columns=list(map(str.lower,df.columns.values.tolist()))\n",
    "print(df.head())\n",
    "print(df.describe())\n",
    "svn.boxplot(x='species',y='sepallengthcm',data=df)\n",
    "plt.show()\n",
    "svn.boxplot(x='species',y='petallengthcm',data=df)\n",
    "plt.show()\n",
    "svn.boxplot(x='species',y='sepalwidthcm',data=df)\n",
    "plt.show()\n",
    "svn.boxplot(x='species',y='petallengthcm',data=df)\n",
    "plt.show()\n",
    "svn.FacetGrid(df,hue='species',size=4)\\\n",
    "   .map(plt.scatter,'sepallengthcm','sepallengthcm')\\\n",
    "   .add_legend()\n",
    "plt.show()\n",
    "svn.FacetGrid(df,hue='species',size=4)\\\n",
    "   .map(plt.scatter,'petallengthcm','petallengthcm')\\\n",
    "   .add_legend()\n",
    "plt.show()\n",
    "svn.FacetGrid(df,hue='species',size=4)\\\n",
    "   .map(plt.scatter,'sepalwidthcm','sepalwidthcm')\\\n",
    "   .add_legend()\n",
    "plt.show()\n",
    "svn.FacetGrid(df,hue='species',size=4)\\\n",
    "   .map(plt.scatter,'petalwidthcm','petalwidthcm')\\\n",
    "   .add_legend()\n",
    "plt.show()\n",
    "x_train,x_test,y_train,y_test=train_test_split(\n",
    "                                            df.loc[:,['petallengthcm','petalwidthcm']],\n",
    "                                            df.loc[:,'species'])\n",
    "clf=KNeighborsClassifier(n_neighbors=2,p=2)\n",
    "clf.fit(x_train,y_train)\n",
    "print('training accuracy{}'.format(clf.score(x_train,y_train)))\n",
    "print('training accuracy{}'.format(clf.score(x_test,y_test)))\n",
    "eg=num.array([3,3.5])\n",
    "eg=eg.reshape(1,-1)\n",
    "predicted_data=clf.predict(eg)\n",
    "print(predicted_data)"
   ]
  },
  {
   "cell_type": "code",
   "execution_count": null,
   "metadata": {},
   "outputs": [],
   "source": []
  }
 ],
 "metadata": {
  "kernelspec": {
   "display_name": "Python 3",
   "language": "python",
   "name": "python3"
  },
  "language_info": {
   "codemirror_mode": {
    "name": "ipython",
    "version": 3
   },
   "file_extension": ".py",
   "mimetype": "text/x-python",
   "name": "python",
   "nbconvert_exporter": "python",
   "pygments_lexer": "ipython3",
   "version": "3.6.5"
  }
 },
 "nbformat": 4,
 "nbformat_minor": 2
}
